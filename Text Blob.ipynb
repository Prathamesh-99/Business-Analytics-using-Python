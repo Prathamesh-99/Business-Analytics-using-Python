{
 "cells": [
  {
   "cell_type": "code",
   "execution_count": 1,
   "id": "c17d00c9",
   "metadata": {},
   "outputs": [],
   "source": [
    "#!pip install textblob"
   ]
  },
  {
   "cell_type": "code",
   "execution_count": 2,
   "id": "8d56d5af",
   "metadata": {},
   "outputs": [],
   "source": [
    "from textblob import TextBlob"
   ]
  },
  {
   "cell_type": "code",
   "execution_count": 3,
   "id": "a36bc2e7",
   "metadata": {},
   "outputs": [
    {
     "name": "stdout",
     "output_type": "stream",
     "text": [
      "Sentiment(polarity=0.4, subjectivity=0.9)\n"
     ]
    }
   ],
   "source": [
    "test1 = TextBlob(\"This novel is fantastic\")\n",
    "print(test1.sentiment)"
   ]
  },
  {
   "cell_type": "code",
   "execution_count": 13,
   "id": "99a89fc4",
   "metadata": {},
   "outputs": [
    {
     "name": "stdout",
     "output_type": "stream",
     "text": [
      "Sentiment(polarity=0.9099999999999999, subjectivity=0.7800000000000001)\n"
     ]
    }
   ],
   "source": [
    "test1 = TextBlob(\"very good\")\n",
    "print(test1.sentiment)"
   ]
  },
  {
   "cell_type": "code",
   "execution_count": 10,
   "id": "569b1413",
   "metadata": {},
   "outputs": [
    {
     "name": "stdout",
     "output_type": "stream",
     "text": [
      "Sentiment(polarity=0.7, subjectivity=0.6000000000000001)\n"
     ]
    }
   ],
   "source": [
    "test1 = TextBlob(\"good\")\n",
    "print(test1.sentiment)"
   ]
  },
  {
   "cell_type": "code",
   "execution_count": 22,
   "id": "479d35c2",
   "metadata": {},
   "outputs": [
    {
     "name": "stdout",
     "output_type": "stream",
     "text": [
      "Sentiment(polarity=-0.35, subjectivity=0.6000000000000001)\n"
     ]
    }
   ],
   "source": [
    "test1 = TextBlob(\"not good\")\n",
    "print(test1.sentiment)"
   ]
  },
  {
   "cell_type": "code",
   "execution_count": 23,
   "id": "159e3d40",
   "metadata": {},
   "outputs": [
    {
     "name": "stdout",
     "output_type": "stream",
     "text": [
      "Sentiment(polarity=-0.6999999999999998, subjectivity=0.6666666666666666)\n"
     ]
    }
   ],
   "source": [
    "test1 = TextBlob(\"bad\")\n",
    "print(test1.sentiment)"
   ]
  },
  {
   "cell_type": "code",
   "execution_count": 24,
   "id": "1898f934",
   "metadata": {},
   "outputs": [
    {
     "name": "stdout",
     "output_type": "stream",
     "text": [
      "Sentiment(polarity=0.3333333333333333, subjectivity=0.6666666666666666)\n"
     ]
    }
   ],
   "source": [
    "test1 = TextBlob(\"super\")\n",
    "print(test1.sentiment)"
   ]
  },
  {
   "cell_type": "code",
   "execution_count": 25,
   "id": "909ec4cd",
   "metadata": {},
   "outputs": [
    {
     "name": "stdout",
     "output_type": "stream",
     "text": [
      "Sentiment(polarity=0.8, subjectivity=0.75)\n"
     ]
    }
   ],
   "source": [
    "test1 = TextBlob(\"great\")\n",
    "print(test1.sentiment)"
   ]
  },
  {
   "cell_type": "code",
   "execution_count": 29,
   "id": "c4324c69",
   "metadata": {},
   "outputs": [
    {
     "name": "stdout",
     "output_type": "stream",
     "text": [
      "Sentiment(polarity=-0.5, subjectivity=0.2)\n"
     ]
    }
   ],
   "source": [
    "test1 = TextBlob(\"useless\")\n",
    "print(test1.sentiment)"
   ]
  },
  {
   "cell_type": "code",
   "execution_count": 30,
   "id": "d2c31a96",
   "metadata": {},
   "outputs": [
    {
     "name": "stdout",
     "output_type": "stream",
     "text": [
      "Sentiment(polarity=0.3, subjectivity=0.0)\n"
     ]
    }
   ],
   "source": [
    "test1 = TextBlob(\"useful\")\n",
    "print(test1.sentiment)"
   ]
  },
  {
   "cell_type": "code",
   "execution_count": 45,
   "id": "a410df11",
   "metadata": {},
   "outputs": [
    {
     "name": "stdout",
     "output_type": "stream",
     "text": [
      "Sentiment(polarity=1.0, subjectivity=1.0)\n"
     ]
    }
   ],
   "source": [
    "test1 = TextBlob(\"wonderful\")\n",
    "print(test1.sentiment)"
   ]
  },
  {
   "cell_type": "code",
   "execution_count": null,
   "id": "65bce783",
   "metadata": {},
   "outputs": [],
   "source": []
  },
  {
   "cell_type": "code",
   "execution_count": 46,
   "id": "c4648736",
   "metadata": {},
   "outputs": [],
   "source": [
    "text='Machine learning algorithms can help in converting text to numeric feature vectors'"
   ]
  },
  {
   "cell_type": "code",
   "execution_count": 47,
   "id": "4952b342",
   "metadata": {},
   "outputs": [
    {
     "data": {
      "text/plain": [
       "'Machine learning algorithms can help in converting text to numeric feature vectors'"
      ]
     },
     "execution_count": 47,
     "metadata": {},
     "output_type": "execute_result"
    }
   ],
   "source": [
    "text"
   ]
  },
  {
   "cell_type": "code",
   "execution_count": 48,
   "id": "69aefbb0",
   "metadata": {},
   "outputs": [
    {
     "data": {
      "text/plain": [
       "'machine learning algorithms can help in converting text to numeric feature vectors'"
      ]
     },
     "execution_count": 48,
     "metadata": {},
     "output_type": "execute_result"
    }
   ],
   "source": [
    "text.lower()"
   ]
  },
  {
   "cell_type": "code",
   "execution_count": 49,
   "id": "1f6286b3",
   "metadata": {},
   "outputs": [
    {
     "data": {
      "text/plain": [
       "'MACHINE LEARNING ALGORITHMS CAN HELP IN CONVERTING TEXT TO NUMERIC FEATURE VECTORS'"
      ]
     },
     "execution_count": 49,
     "metadata": {},
     "output_type": "execute_result"
    }
   ],
   "source": [
    "text.upper()"
   ]
  },
  {
   "cell_type": "code",
   "execution_count": 50,
   "id": "d0e53767",
   "metadata": {},
   "outputs": [
    {
     "data": {
      "text/plain": [
       "'Machine Learning Algorithms Can Help In Converting Text To Numeric Feature Vectors'"
      ]
     },
     "execution_count": 50,
     "metadata": {},
     "output_type": "execute_result"
    }
   ],
   "source": [
    "text.title()"
   ]
  },
  {
   "cell_type": "code",
   "execution_count": null,
   "id": "0fcc1f7b",
   "metadata": {},
   "outputs": [],
   "source": []
  },
  {
   "cell_type": "markdown",
   "id": "2f087511",
   "metadata": {},
   "source": [
    "# Tokenization"
   ]
  },
  {
   "cell_type": "code",
   "execution_count": 52,
   "id": "24261896",
   "metadata": {},
   "outputs": [
    {
     "data": {
      "text/plain": [
       "'We’ll be using an example of a dataset having yes and no labels to be used to train a logistic regression model.'"
      ]
     },
     "execution_count": 52,
     "metadata": {},
     "output_type": "execute_result"
    }
   ],
   "source": [
    "sample_text =(\"We’ll be using an example of a dataset having yes and no labels to be used to train a logistic regression model.\")\n",
    "sample_text"
   ]
  },
  {
   "cell_type": "code",
   "execution_count": 64,
   "id": "dfd39604",
   "metadata": {},
   "outputs": [
    {
     "name": "stderr",
     "output_type": "stream",
     "text": [
      "[nltk_data] Downloading package punkt to\n",
      "[nltk_data]     C:\\Users\\prath\\AppData\\Roaming\\nltk_data...\n",
      "[nltk_data]   Package punkt is already up-to-date!\n",
      "[nltk_data] Downloading package wordnet to\n",
      "[nltk_data]     C:\\Users\\prath\\AppData\\Roaming\\nltk_data...\n",
      "[nltk_data]   Unzipping corpora\\wordnet.zip.\n",
      "[nltk_data] Downloading package stopwords to\n",
      "[nltk_data]     C:\\Users\\prath\\AppData\\Roaming\\nltk_data...\n",
      "[nltk_data]   Package stopwords is already up-to-date!\n",
      "[nltk_data] Downloading package averaged_perceptron_tagger to\n",
      "[nltk_data]     C:\\Users\\prath\\AppData\\Roaming\\nltk_data...\n",
      "[nltk_data]   Package averaged_perceptron_tagger is already up-to-\n",
      "[nltk_data]       date!\n"
     ]
    },
    {
     "data": {
      "text/plain": [
       "True"
      ]
     },
     "execution_count": 64,
     "metadata": {},
     "output_type": "execute_result"
    }
   ],
   "source": [
    "#import nltk \n",
    "#nltk.download('punkt')\n",
    "#nltk.download('wordnet')\n",
    "#nltk.download('stopwords')\n",
    "#nltk.download('averaged_perceptron_tagger')"
   ]
  },
  {
   "cell_type": "code",
   "execution_count": 61,
   "id": "f1ecceff",
   "metadata": {},
   "outputs": [
    {
     "data": {
      "text/plain": [
       "['We’ll be using an example of a dataset having yes and no labels to be used to train a logistic regression model.']"
      ]
     },
     "execution_count": 61,
     "metadata": {},
     "output_type": "execute_result"
    }
   ],
   "source": [
    "nltk.sent_tokenize(sample_text)"
   ]
  },
  {
   "cell_type": "code",
   "execution_count": 62,
   "id": "154abed1",
   "metadata": {},
   "outputs": [
    {
     "name": "stdout",
     "output_type": "stream",
     "text": [
      "['We', '’', 'll', 'be', 'using', 'an', 'example', 'of', 'a', 'dataset', 'having', 'yes', 'and', 'no', 'labels', 'to', 'be', 'used', 'to', 'train', 'a', 'logistic', 'regression', 'model', '.']\n"
     ]
    }
   ],
   "source": [
    "print(nltk.word_tokenize(sample_text))"
   ]
  },
  {
   "cell_type": "code",
   "execution_count": 63,
   "id": "8012e42a",
   "metadata": {},
   "outputs": [
    {
     "name": "stdout",
     "output_type": "stream",
     "text": [
      "['We', '’', 'll', 'be', 'using', 'an', 'example', 'of', 'a', 'dataset', 'having', 'yes', 'and', 'no', 'labels', 'to', 'be', 'used', 'to', 'train', 'a', 'logistic', 'regression', 'model', '.']\n"
     ]
    }
   ],
   "source": [
    "tt=nltk.toktok.ToktokTokenizer()\n",
    "print(tt.tokenize(sample_text))"
   ]
  },
  {
   "cell_type": "code",
   "execution_count": null,
   "id": "bc621ccf",
   "metadata": {},
   "outputs": [],
   "source": []
  },
  {
   "cell_type": "code",
   "execution_count": 66,
   "id": "2f2968d6",
   "metadata": {},
   "outputs": [
    {
     "data": {
      "text/plain": [
       "('leav', 'leav', 'left')"
      ]
     },
     "execution_count": 66,
     "metadata": {},
     "output_type": "execute_result"
    }
   ],
   "source": [
    "# Porter Stemmer\n",
    "from nltk.stem import PorterStemmer\n",
    "ps = PorterStemmer()\n",
    "ps.stem('leaving'), ps.stem('leaves'), ps.stem('left')"
   ]
  },
  {
   "cell_type": "code",
   "execution_count": 67,
   "id": "e439a727",
   "metadata": {},
   "outputs": [
    {
     "data": {
      "text/plain": [
       "'lie'"
      ]
     },
     "execution_count": 67,
     "metadata": {},
     "output_type": "execute_result"
    }
   ],
   "source": [
    "ps.stem('lying')"
   ]
  },
  {
   "cell_type": "code",
   "execution_count": 68,
   "id": "c8f0c161",
   "metadata": {},
   "outputs": [
    {
     "data": {
      "text/plain": [
       "'strang'"
      ]
     },
     "execution_count": 68,
     "metadata": {},
     "output_type": "execute_result"
    }
   ],
   "source": [
    "ps.stem('strange')"
   ]
  },
  {
   "cell_type": "code",
   "execution_count": 69,
   "id": "c0a6a44c",
   "metadata": {},
   "outputs": [],
   "source": [
    "#import nltk\n",
    "#ps=nltk.porter.PorterStemmer()\n",
    "#ls=nltk"
   ]
  },
  {
   "cell_type": "code",
   "execution_count": null,
   "id": "ca2ea8a6",
   "metadata": {},
   "outputs": [],
   "source": []
  },
  {
   "cell_type": "code",
   "execution_count": 70,
   "id": "778d6f43",
   "metadata": {},
   "outputs": [],
   "source": [
    "# Lemmatization\n",
    "from nltk.stem import WordNetLemmatizer\n",
    "wnl=WordNetLemmatizer()"
   ]
  },
  {
   "cell_type": "code",
   "execution_count": 71,
   "id": "f80eaefa",
   "metadata": {},
   "outputs": [],
   "source": [
    "#help(wnl.lemm)"
   ]
  },
  {
   "cell_type": "code",
   "execution_count": null,
   "id": "93867eb6",
   "metadata": {},
   "outputs": [],
   "source": []
  },
  {
   "cell_type": "code",
   "execution_count": null,
   "id": "2561293c",
   "metadata": {},
   "outputs": [],
   "source": []
  }
 ],
 "metadata": {
  "kernelspec": {
   "display_name": "Python 3",
   "language": "python",
   "name": "python3"
  },
  "language_info": {
   "codemirror_mode": {
    "name": "ipython",
    "version": 3
   },
   "file_extension": ".py",
   "mimetype": "text/x-python",
   "name": "python",
   "nbconvert_exporter": "python",
   "pygments_lexer": "ipython3",
   "version": "3.8.8"
  }
 },
 "nbformat": 4,
 "nbformat_minor": 5
}
