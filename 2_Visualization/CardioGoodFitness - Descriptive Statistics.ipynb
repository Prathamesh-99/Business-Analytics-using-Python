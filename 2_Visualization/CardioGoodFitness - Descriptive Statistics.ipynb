{
 "cells": [
  {
   "cell_type": "markdown",
   "metadata": {
    "colab_type": "text",
    "id": "5yQmWybNalxe"
   },
   "source": [
    "# Cardio Good Fitness Case Study - Descriptive Statistics\n",
    "The market research team at AdRight is assigned the task to identify the profile of the typical customer for each treadmill product offered by CardioGood Fitness. The market research team decides to investigate whether there are differences across the product lines with respect to customer characteristics. The team decides to collect data on individuals who purchased a treadmill at a CardioGoodFitness retail store during the prior three months. The data are stored in the CardioGoodFitness.csv file.\n",
    "\n",
    "### The team identifies the following customer variables to study: \n",
    "  - product purchased, TM195, TM498, or TM798; \n",
    "  - gender; \n",
    "  - age, in years; \n",
    "  - education, in years; \n",
    "  - relationship status, single or partnered; \n",
    "  - annual household income ; \n",
    "  - average number of times the customer plans to use the treadmill each week; \n",
    "  - average number of miles the customer expects to walk/run each week; \n",
    "  - and self-rated fitness on an 1-to-5 scale, where 1 is poor shape and 5 is excellent shape.\n",
    "\n",
    "### Perform descriptive analytics to create a customer profile for each CardioGood Fitness treadmill product line."
   ]
  },
  {
   "cell_type": "code",
   "execution_count": 2,
   "metadata": {
    "colab": {},
    "colab_type": "code",
    "id": "FwqlEvXRalxf"
   },
   "outputs": [],
   "source": [
    "# Load the necessary packages\n",
    "\n",
    "import numpy as np\n",
    "import pandas as pd"
   ]
  },
  {
   "cell_type": "code",
   "execution_count": 3,
   "metadata": {
    "colab": {},
    "colab_type": "code",
    "id": "PTQiscNQalxi"
   },
   "outputs": [],
   "source": [
    "# Load the Cardio Dataset\n",
    "    \n",
    "mydata = pd.read_csv('CardioGoodFitness-1.csv')      # use \"data=pd.read_excel('CardioGoodFitness-1.xlsx')\" for excel file"
   ]
  },
  {
   "cell_type": "code",
   "execution_count": null,
   "metadata": {
    "colab": {},
    "colab_type": "code",
    "id": "6L3dLuhjalxl",
    "outputId": "517ad271-e60d-4665-b785-d4c807052198"
   },
   "outputs": [],
   "source": [
    "mydata.head() #top 5 data"
   ]
  },
  {
   "cell_type": "code",
   "execution_count": null,
   "metadata": {},
   "outputs": [],
   "source": [
    "mydata.head(10)  #top 10 data"
   ]
  },
  {
   "cell_type": "code",
   "execution_count": null,
   "metadata": {},
   "outputs": [],
   "source": [
    "mydata.tail()    #bottom 5 data"
   ]
  },
  {
   "cell_type": "code",
   "execution_count": null,
   "metadata": {},
   "outputs": [],
   "source": [
    "mydata.tail(10)  #bottom 10 data"
   ]
  },
  {
   "cell_type": "code",
   "execution_count": null,
   "metadata": {},
   "outputs": [],
   "source": [
    "mydata.sample()    #random data only one"
   ]
  },
  {
   "cell_type": "code",
   "execution_count": null,
   "metadata": {},
   "outputs": [],
   "source": [
    "mydata.sample(10)   #random 10 data"
   ]
  },
  {
   "cell_type": "code",
   "execution_count": null,
   "metadata": {},
   "outputs": [],
   "source": [
    "mydata.shape  # (rows,columns)"
   ]
  },
  {
   "cell_type": "code",
   "execution_count": null,
   "metadata": {
    "scrolled": true
   },
   "outputs": [],
   "source": [
    "mydata.describe() #only for numerical data ---important        Also Skewed data coz mean not equal to median"
   ]
  },
  {
   "cell_type": "code",
   "execution_count": 4,
   "metadata": {
    "colab": {},
    "colab_type": "code",
    "id": "gx7XgVaxalxq",
    "outputId": "5daa8977-f41a-4e35-be8d-ed2468efc4fe"
   },
   "outputs": [
    {
     "data": {
      "text/html": [
       "<div>\n",
       "<style scoped>\n",
       "    .dataframe tbody tr th:only-of-type {\n",
       "        vertical-align: middle;\n",
       "    }\n",
       "\n",
       "    .dataframe tbody tr th {\n",
       "        vertical-align: top;\n",
       "    }\n",
       "\n",
       "    .dataframe thead th {\n",
       "        text-align: right;\n",
       "    }\n",
       "</style>\n",
       "<table border=\"1\" class=\"dataframe\">\n",
       "  <thead>\n",
       "    <tr style=\"text-align: right;\">\n",
       "      <th></th>\n",
       "      <th>Product</th>\n",
       "      <th>Age</th>\n",
       "      <th>Gender</th>\n",
       "      <th>Education</th>\n",
       "      <th>MaritalStatus</th>\n",
       "      <th>Usage</th>\n",
       "      <th>Fitness</th>\n",
       "      <th>Income</th>\n",
       "      <th>Miles</th>\n",
       "    </tr>\n",
       "  </thead>\n",
       "  <tbody>\n",
       "    <tr>\n",
       "      <th>count</th>\n",
       "      <td>180</td>\n",
       "      <td>180.000000</td>\n",
       "      <td>180</td>\n",
       "      <td>180.000000</td>\n",
       "      <td>180</td>\n",
       "      <td>180.000000</td>\n",
       "      <td>180.000000</td>\n",
       "      <td>180.000000</td>\n",
       "      <td>180.000000</td>\n",
       "    </tr>\n",
       "    <tr>\n",
       "      <th>unique</th>\n",
       "      <td>3</td>\n",
       "      <td>NaN</td>\n",
       "      <td>2</td>\n",
       "      <td>NaN</td>\n",
       "      <td>2</td>\n",
       "      <td>NaN</td>\n",
       "      <td>NaN</td>\n",
       "      <td>NaN</td>\n",
       "      <td>NaN</td>\n",
       "    </tr>\n",
       "    <tr>\n",
       "      <th>top</th>\n",
       "      <td>TM195</td>\n",
       "      <td>NaN</td>\n",
       "      <td>Male</td>\n",
       "      <td>NaN</td>\n",
       "      <td>Partnered</td>\n",
       "      <td>NaN</td>\n",
       "      <td>NaN</td>\n",
       "      <td>NaN</td>\n",
       "      <td>NaN</td>\n",
       "    </tr>\n",
       "    <tr>\n",
       "      <th>freq</th>\n",
       "      <td>80</td>\n",
       "      <td>NaN</td>\n",
       "      <td>104</td>\n",
       "      <td>NaN</td>\n",
       "      <td>107</td>\n",
       "      <td>NaN</td>\n",
       "      <td>NaN</td>\n",
       "      <td>NaN</td>\n",
       "      <td>NaN</td>\n",
       "    </tr>\n",
       "    <tr>\n",
       "      <th>mean</th>\n",
       "      <td>NaN</td>\n",
       "      <td>28.788889</td>\n",
       "      <td>NaN</td>\n",
       "      <td>15.572222</td>\n",
       "      <td>NaN</td>\n",
       "      <td>3.455556</td>\n",
       "      <td>3.311111</td>\n",
       "      <td>53719.577778</td>\n",
       "      <td>103.194444</td>\n",
       "    </tr>\n",
       "    <tr>\n",
       "      <th>std</th>\n",
       "      <td>NaN</td>\n",
       "      <td>6.943498</td>\n",
       "      <td>NaN</td>\n",
       "      <td>1.617055</td>\n",
       "      <td>NaN</td>\n",
       "      <td>1.084797</td>\n",
       "      <td>0.958869</td>\n",
       "      <td>16506.684226</td>\n",
       "      <td>51.863605</td>\n",
       "    </tr>\n",
       "    <tr>\n",
       "      <th>min</th>\n",
       "      <td>NaN</td>\n",
       "      <td>18.000000</td>\n",
       "      <td>NaN</td>\n",
       "      <td>12.000000</td>\n",
       "      <td>NaN</td>\n",
       "      <td>2.000000</td>\n",
       "      <td>1.000000</td>\n",
       "      <td>29562.000000</td>\n",
       "      <td>21.000000</td>\n",
       "    </tr>\n",
       "    <tr>\n",
       "      <th>25%</th>\n",
       "      <td>NaN</td>\n",
       "      <td>24.000000</td>\n",
       "      <td>NaN</td>\n",
       "      <td>14.000000</td>\n",
       "      <td>NaN</td>\n",
       "      <td>3.000000</td>\n",
       "      <td>3.000000</td>\n",
       "      <td>44058.750000</td>\n",
       "      <td>66.000000</td>\n",
       "    </tr>\n",
       "    <tr>\n",
       "      <th>50%</th>\n",
       "      <td>NaN</td>\n",
       "      <td>26.000000</td>\n",
       "      <td>NaN</td>\n",
       "      <td>16.000000</td>\n",
       "      <td>NaN</td>\n",
       "      <td>3.000000</td>\n",
       "      <td>3.000000</td>\n",
       "      <td>50596.500000</td>\n",
       "      <td>94.000000</td>\n",
       "    </tr>\n",
       "    <tr>\n",
       "      <th>75%</th>\n",
       "      <td>NaN</td>\n",
       "      <td>33.000000</td>\n",
       "      <td>NaN</td>\n",
       "      <td>16.000000</td>\n",
       "      <td>NaN</td>\n",
       "      <td>4.000000</td>\n",
       "      <td>4.000000</td>\n",
       "      <td>58668.000000</td>\n",
       "      <td>114.750000</td>\n",
       "    </tr>\n",
       "    <tr>\n",
       "      <th>max</th>\n",
       "      <td>NaN</td>\n",
       "      <td>50.000000</td>\n",
       "      <td>NaN</td>\n",
       "      <td>21.000000</td>\n",
       "      <td>NaN</td>\n",
       "      <td>7.000000</td>\n",
       "      <td>5.000000</td>\n",
       "      <td>104581.000000</td>\n",
       "      <td>360.000000</td>\n",
       "    </tr>\n",
       "  </tbody>\n",
       "</table>\n",
       "</div>"
      ],
      "text/plain": [
       "       Product         Age Gender   Education MaritalStatus       Usage  \\\n",
       "count      180  180.000000    180  180.000000           180  180.000000   \n",
       "unique       3         NaN      2         NaN             2         NaN   \n",
       "top      TM195         NaN   Male         NaN     Partnered         NaN   \n",
       "freq        80         NaN    104         NaN           107         NaN   \n",
       "mean       NaN   28.788889    NaN   15.572222           NaN    3.455556   \n",
       "std        NaN    6.943498    NaN    1.617055           NaN    1.084797   \n",
       "min        NaN   18.000000    NaN   12.000000           NaN    2.000000   \n",
       "25%        NaN   24.000000    NaN   14.000000           NaN    3.000000   \n",
       "50%        NaN   26.000000    NaN   16.000000           NaN    3.000000   \n",
       "75%        NaN   33.000000    NaN   16.000000           NaN    4.000000   \n",
       "max        NaN   50.000000    NaN   21.000000           NaN    7.000000   \n",
       "\n",
       "           Fitness         Income       Miles  \n",
       "count   180.000000     180.000000  180.000000  \n",
       "unique         NaN            NaN         NaN  \n",
       "top            NaN            NaN         NaN  \n",
       "freq           NaN            NaN         NaN  \n",
       "mean      3.311111   53719.577778  103.194444  \n",
       "std       0.958869   16506.684226   51.863605  \n",
       "min       1.000000   29562.000000   21.000000  \n",
       "25%       3.000000   44058.750000   66.000000  \n",
       "50%       3.000000   50596.500000   94.000000  \n",
       "75%       4.000000   58668.000000  114.750000  \n",
       "max       5.000000  104581.000000  360.000000  "
      ]
     },
     "execution_count": 4,
     "metadata": {},
     "output_type": "execute_result"
    }
   ],
   "source": [
    "mydata.describe(include=\"all\")   # top - max occurrence and freq of occurrence "
   ]
  },
  {
   "cell_type": "code",
   "execution_count": null,
   "metadata": {
    "colab": {},
    "colab_type": "code",
    "id": "OpR1RHh-alxt",
    "outputId": "1528037f-982a-410f-8294-1748743bea48"
   },
   "outputs": [],
   "source": [
    "mydata.info()"
   ]
  },
  {
   "cell_type": "code",
   "execution_count": null,
   "metadata": {},
   "outputs": [],
   "source": [
    "mydata.dtypes"
   ]
  },
  {
   "cell_type": "code",
   "execution_count": null,
   "metadata": {
    "colab": {},
    "colab_type": "code",
    "id": "xCWYdGJZalxw",
    "outputId": "c27ab41e-25a5-47d0-9d50-372df8cb06c0"
   },
   "outputs": [],
   "source": [
    "import matplotlib.pyplot as plt\n",
    "%matplotlib inline\n",
    "\n",
    "mydata.hist(figsize=(20,30))"
   ]
  },
  {
   "cell_type": "code",
   "execution_count": null,
   "metadata": {},
   "outputs": [],
   "source": [
    "mydata.hist()"
   ]
  },
  {
   "cell_type": "code",
   "execution_count": 9,
   "metadata": {
    "colab": {},
    "colab_type": "code",
    "id": "lLAY-ph-alxz",
    "outputId": "791a3af9-22e6-4cc1-a6be-ddde9cbe2063"
   },
   "outputs": [
    {
     "data": {
      "text/plain": [
       "<AxesSubplot:xlabel='Gender', ylabel='Age'>"
      ]
     },
     "execution_count": 9,
     "metadata": {},
     "output_type": "execute_result"
    },
    {
     "data": {
      "image/png": "[encoded data removed]",
      "text/plain": [
       "<Figure size 432x288 with 1 Axes>"
      ]
     },
     "metadata": {
      "needs_background": "light"
     },
     "output_type": "display_data"
    }
   ],
   "source": [
    "import seaborn as sns          ##box plot for outlier and for comparison  \n",
    "\n",
    "sns.boxplot(x=\"Gender\", y=\"Age\", data=mydata)"
   ]
  },
  {
   "cell_type": "code",
   "execution_count": null,
   "metadata": {},
   "outputs": [],
   "source": [
    "import seaborn as sns\n",
    "\n",
    "sns.boxplot(y='Gender', x='Age',data=mydata)"
   ]
  },
  {
   "cell_type": "code",
   "execution_count": null,
   "metadata": {},
   "outputs": [],
   "source": [
    "import seaborn as sns\n",
    "\n",
    "sns.boxplot(x='Product', y='Gender',data=mydata)       # either one should be numerical"
   ]
  },
  {
   "cell_type": "code",
   "execution_count": null,
   "metadata": {
    "colab": {},
    "colab_type": "code",
    "id": "WQD1evkUalx2",
    "outputId": "1ae66f2a-92fc-4688-d8ba-adca174425c1",
    "scrolled": true
   },
   "outputs": [],
   "source": [
    "pd.crosstab(mydata['Product'],mydata['Gender'] )"
   ]
  },
  {
   "cell_type": "code",
   "execution_count": null,
   "metadata": {
    "colab": {},
    "colab_type": "code",
    "id": "cDxYJ64nalx5",
    "outputId": "d8a984c9-43fd-454c-a790-2a8eaa2dbc4e"
   },
   "outputs": [],
   "source": [
    "pd.crosstab(mydata['Product'],mydata['MaritalStatus'] )"
   ]
  },
  {
   "cell_type": "code",
   "execution_count": null,
   "metadata": {
    "colab": {},
    "colab_type": "code",
    "id": "NOLByyabalx8",
    "outputId": "a7bd5799-7dac-4ac6-92e8-c506530430d7"
   },
   "outputs": [],
   "source": [
    "sns.countplot(x=\"Product\", hue=\"Gender\", data=mydata)"
   ]
  },
  {
   "cell_type": "code",
   "execution_count": null,
   "metadata": {
    "colab": {},
    "colab_type": "code",
    "id": "e5v_4VlValx-",
    "outputId": "8deaa184-1d4a-436e-8262-42c88d3bf270"
   },
   "outputs": [],
   "source": [
    "pd.pivot_table(mydata, index=['Product', 'Gender'],\n",
    "                     columns=[ 'MaritalStatus'], aggfunc=len)  #aggfunc =mean(by default if not used),sum,max,min,len(same as 'count' gives count) can also be used"
   ]
  },
  {
   "cell_type": "code",
   "execution_count": null,
   "metadata": {
    "colab": {},
    "colab_type": "code",
    "id": "UCjf0j-galyB",
    "outputId": "cccb35aa-319e-4784-d75c-8f73eb6e19b3"
   },
   "outputs": [],
   "source": [
    "pd.pivot_table(mydata,'Income', index=['Product', 'Gender'],\n",
    "                     columns=[ 'MaritalStatus'])"
   ]
  },
  {
   "cell_type": "code",
   "execution_count": null,
   "metadata": {
    "colab": {},
    "colab_type": "code",
    "id": "bGbFJOc-alyE",
    "outputId": "5a8d24d3-d93b-474b-9790-7466084b8fa5"
   },
   "outputs": [],
   "source": [
    "pd.pivot_table(mydata,'Miles', index=['Product', 'Gender'],\n",
    "                     columns=[ 'MaritalStatus'])"
   ]
  },
  {
   "cell_type": "code",
   "execution_count": null,
   "metadata": {},
   "outputs": [],
   "source": [
    "sns.pairplot(mydata,diag_kind='kde')"
   ]
  },
  {
   "cell_type": "code",
   "execution_count": null,
   "metadata": {
    "colab": {},
    "colab_type": "code",
    "id": "iK2KSu7qalyI",
    "outputId": "eb7fad0f-dae6-4234-8eb9-deadc82729a8"
   },
   "outputs": [],
   "source": [
    "sns.pairplot(mydata)"
   ]
  },
  {
   "cell_type": "code",
   "execution_count": null,
   "metadata": {
    "colab": {},
    "colab_type": "code",
    "id": "C2_8GA9balyM",
    "outputId": "e705f4a7-8dd1-430e-a465-ca58f6faced5"
   },
   "outputs": [],
   "source": [
    "mydata['Age'].std()"
   ]
  },
  {
   "cell_type": "code",
   "execution_count": null,
   "metadata": {
    "colab": {},
    "colab_type": "code",
    "id": "LZYVrJgQalyQ",
    "outputId": "f585f5ca-0344-4f64-8a57-e17c3a9de046"
   },
   "outputs": [],
   "source": [
    "mydata['Age'].mean()"
   ]
  },
  {
   "cell_type": "code",
   "execution_count": 10,
   "metadata": {
    "colab": {},
    "colab_type": "code",
    "id": "XL4B5n2dalyT",
    "outputId": "4b2f9d15-4e20-4a9c-d274-4338a3dde314"
   },
   "outputs": [
    {
     "name": "stderr",
     "output_type": "stream",
     "text": [
      "C:\\ProgramData\\Anaconda3\\lib\\site-packages\\seaborn\\distributions.py:2557: FutureWarning: `distplot` is a deprecated function and will be removed in a future version. Please adapt your code to use either `displot` (a figure-level function with similar flexibility) or `histplot` (an axes-level function for histograms).\n",
      "  warnings.warn(msg, FutureWarning)\n"
     ]
    },
    {
     "data": {
      "text/plain": [
       "<AxesSubplot:xlabel='Age', ylabel='Density'>"
      ]
     },
     "execution_count": 10,
     "metadata": {},
     "output_type": "execute_result"
    },
    {
     "data": {
      "image/png": "[encoded data removed]",
      "text/plain": [
       "<Figure size 432x288 with 1 Axes>"
      ]
     },
     "metadata": {
      "needs_background": "light"
     },
     "output_type": "display_data"
    }
   ],
   "source": [
    "sns.distplot(mydata['Age'])"
   ]
  },
  {
   "cell_type": "code",
   "execution_count": null,
   "metadata": {
    "colab": {},
    "colab_type": "code",
    "id": "gcol88gJalyX",
    "outputId": "81407f07-9cd8-42b8-93e5-2e9427a6f549"
   },
   "outputs": [],
   "source": [
    "mydata.hist(by='Gender',column = 'Age')   "
   ]
  },
  {
   "cell_type": "code",
   "execution_count": 5,
   "metadata": {
    "colab": {},
    "colab_type": "code",
    "id": "rEPATncaalyd",
    "outputId": "64e8abef-01ad-4ae8-80f6-94cb03415ae0"
   },
   "outputs": [
    {
     "data": {
      "text/plain": [
       "array([<AxesSubplot:title={'center':'Female'}>,\n",
       "       <AxesSubplot:title={'center':'Male'}>], dtype=object)"
      ]
     },
     "execution_count": 5,
     "metadata": {},
     "output_type": "execute_result"
    },
    {
     "data": {
      "image/png": "[encoded data removed]",
      "text/plain": [
       "<Figure size 432x288 with 2 Axes>"
      ]
     },
     "metadata": {
      "needs_background": "light"
     },
     "output_type": "display_data"
    }
   ],
   "source": [
    "mydata.hist(by='Gender',column = 'Income')"
   ]
  },
  {
   "cell_type": "code",
   "execution_count": 6,
   "metadata": {
    "colab": {},
    "colab_type": "code",
    "id": "4sK-v64Aalyg",
    "outputId": "32ca72c4-c876-4c40-b5c8-955cf2835a0d"
   },
   "outputs": [
    {
     "data": {
      "text/plain": [
       "array([<AxesSubplot:title={'center':'Female'}>,\n",
       "       <AxesSubplot:title={'center':'Male'}>], dtype=object)"
      ]
     },
     "execution_count": 6,
     "metadata": {},
     "output_type": "execute_result"
    },
    {
     "data": {
      "image/png": "[encoded data removed]",
      "text/plain": [
       "<Figure size 432x288 with 2 Axes>"
      ]
     },
     "metadata": {
      "needs_background": "light"
     },
     "output_type": "display_data"
    }
   ],
   "source": [
    "mydata.hist(by='Gender',column = 'Miles')"
   ]
  },
  {
   "cell_type": "code",
   "execution_count": 7,
   "metadata": {
    "colab": {},
    "colab_type": "code",
    "id": "DE8kTfUmalyi",
    "outputId": "af6f6fb6-575d-4939-ee25-4ff3d2a39a1b"
   },
   "outputs": [
    {
     "data": {
      "text/plain": [
       "array([[<AxesSubplot:title={'center':'TM195'}>,\n",
       "        <AxesSubplot:title={'center':'TM498'}>],\n",
       "       [<AxesSubplot:title={'center':'TM798'}>, <AxesSubplot:>]],\n",
       "      dtype=object)"
      ]
     },
     "execution_count": 7,
     "metadata": {},
     "output_type": "execute_result"
    },
    {
     "data": {
      "image/png": "[encoded data removed]",
      "text/plain": [
       "<Figure size 1440x2160 with 4 Axes>"
      ]
     },
     "metadata": {
      "needs_background": "light"
     },
     "output_type": "display_data"
    }
   ],
   "source": [
    "mydata.hist(by='Product',column = 'Miles', figsize=(20,30))"
   ]
  },
  {
   "cell_type": "code",
   "execution_count": null,
   "metadata": {
    "colab": {},
    "colab_type": "code",
    "id": "6zeD93f_alym",
    "outputId": "7331fe3c-14d7-4f29-fae6-c898a3863afe"
   },
   "outputs": [],
   "source": [
    "corr = mydata.corr()\n",
    "corr"
   ]
  },
  {
   "cell_type": "code",
   "execution_count": null,
   "metadata": {
    "colab": {},
    "colab_type": "code",
    "id": "fCB5MQo3alyo",
    "outputId": "8c1c70cf-05e2-4ee0-b9ca-7a724edc66eb"
   },
   "outputs": [],
   "source": [
    "sns.heatmap(corr, annot=True)"
   ]
  },
  {
   "cell_type": "code",
   "execution_count": null,
   "metadata": {
    "colab": {},
    "colab_type": "code",
    "id": "Ue9gKwfYalyq",
    "outputId": "a496e673-b915-4191-8d6b-bc556b17db1d"
   },
   "outputs": [],
   "source": [
    "# Simple Linear Regression\n",
    "\n",
    "\n",
    "#Load function from sklearn\n",
    "from sklearn import linear_model\n",
    "\n",
    "# Create linear regression object\n",
    "regr = linear_model.LinearRegression()\n",
    "\n",
    "y = mydata['Miles']\n",
    "x = mydata[['Usage','Fitness']]\n",
    "\n",
    "# Train the model using the training sets\n",
    "regr.fit(x,y)\n",
    "\n"
   ]
  },
  {
   "cell_type": "code",
   "execution_count": null,
   "metadata": {
    "colab": {},
    "colab_type": "code",
    "id": "99AxHwhKalys",
    "outputId": "95af7ed0-664f-4804-a17b-3e06a9d5dc20"
   },
   "outputs": [],
   "source": [
    "regr.coef_"
   ]
  },
  {
   "cell_type": "code",
   "execution_count": null,
   "metadata": {
    "colab": {},
    "colab_type": "code",
    "id": "dZIz0qp_alyv",
    "outputId": "1a498e56-3849-4f5d-d691-5dce93174112"
   },
   "outputs": [],
   "source": [
    "regr.intercept_"
   ]
  },
  {
   "cell_type": "code",
   "execution_count": null,
   "metadata": {
    "colab": {},
    "colab_type": "code",
    "id": "chn8tXv3alyx"
   },
   "outputs": [],
   "source": [
    "# MilesPredicted = -56.74 + 20.21*Usage + 27.20*Fitness"
   ]
  }
 ],
 "metadata": {
  "colab": {
   "name": "CardioGoodFitness - Descriptive Statistics.ipynb",
   "provenance": [],
   "version": "0.3.2"
  },
  "kernelspec": {
   "display_name": "Python 3",
   "language": "python",
   "name": "python3"
  },
  "language_info": {
   "codemirror_mode": {
    "name": "ipython",
    "version": 3
   },
   "file_extension": ".py",
   "mimetype": "text/x-python",
   "name": "python",
   "nbconvert_exporter": "python",
   "pygments_lexer": "ipython3",
   "version": "3.8.8"
  }
 },
 "nbformat": 4,
 "nbformat_minor": 1
}
