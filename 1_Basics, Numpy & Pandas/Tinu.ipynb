{
 "cells": [
  {
   "cell_type": "code",
   "execution_count": null,
   "id": "48d9b764",
   "metadata": {
    "scrolled": true
   },
   "outputs": [],
   "source": [
    "!python --version\n"
   ]
  },
  {
   "cell_type": "code",
   "execution_count": null,
   "id": "5ec4420a",
   "metadata": {},
   "outputs": [],
   "source": [
    "a=3\n",
    "b=6\n",
    "sum=a+b\n",
    "sum"
   ]
  },
  {
   "cell_type": "code",
   "execution_count": null,
   "id": "69a0e64d",
   "metadata": {},
   "outputs": [],
   "source": [
    "x=3+6+20+19+22\n",
    "x"
   ]
  },
  {
   "cell_type": "code",
   "execution_count": null,
   "id": "c1cdd0ae",
   "metadata": {},
   "outputs": [],
   "source": [
    "a,b,c=23,34,'hii'\n",
    "a,b,c"
   ]
  },
  {
   "cell_type": "code",
   "execution_count": null,
   "id": "233ea237",
   "metadata": {
    "scrolled": false
   },
   "outputs": [],
   "source": [
    "a=2\n",
    "b=2.3\n",
    "c='hii'\n",
    "d=2+3j\n",
    "type(a),type(b),type(c),type(d)\n"
   ]
  },
  {
   "cell_type": "markdown",
   "id": "75f5a041",
   "metadata": {},
   "source": [
    "# Array\n"
   ]
  },
  {
   "cell_type": "code",
   "execution_count": null,
   "id": "39cc364c",
   "metadata": {
    "scrolled": false
   },
   "outputs": [],
   "source": [
    "sample_list=[12,43,56,\"hi\",1+2j,6.7]\n",
    "sample_list"
   ]
  },
  {
   "cell_type": "code",
   "execution_count": null,
   "id": "7ee940db",
   "metadata": {
    "scrolled": true
   },
   "outputs": [],
   "source": [
    "type(sample_list)"
   ]
  },
  {
   "cell_type": "code",
   "execution_count": null,
   "id": "6010913b",
   "metadata": {
    "scrolled": true
   },
   "outputs": [],
   "source": [
    "sample_list[2]"
   ]
  },
  {
   "cell_type": "code",
   "execution_count": null,
   "id": "7e598fd3",
   "metadata": {},
   "outputs": [],
   "source": [
    "sample_list[2]=3.5\n",
    "sample_list"
   ]
  },
  {
   "cell_type": "code",
   "execution_count": null,
   "id": "e48e535a",
   "metadata": {},
   "outputs": [],
   "source": [
    "sample_list.reverse()"
   ]
  },
  {
   "cell_type": "code",
   "execution_count": null,
   "id": "3003363c",
   "metadata": {},
   "outputs": [],
   "source": [
    "sample_list"
   ]
  },
  {
   "cell_type": "markdown",
   "id": "d2779fd5",
   "metadata": {},
   "source": [
    "# Part 2\n",
    "\n"
   ]
  },
  {
   "cell_type": "code",
   "execution_count": 11,
   "id": "01439310",
   "metadata": {},
   "outputs": [
    {
     "data": {
      "text/plain": [
       "[12, 43, 56, 'hi', (1+2j), 6.7]"
      ]
     },
     "execution_count": 11,
     "metadata": {},
     "output_type": "execute_result"
    }
   ],
   "source": [
    "sample_tuple=[12,43,56,\"hi\",1+2j,6.7]\n",
    "sample_tuple"
   ]
  },
  {
   "cell_type": "code",
   "execution_count": 12,
   "id": "bad92e2e",
   "metadata": {},
   "outputs": [
    {
     "data": {
      "text/plain": [
       "list"
      ]
     },
     "execution_count": 12,
     "metadata": {},
     "output_type": "execute_result"
    }
   ],
   "source": [
    "type(sample_tuple)"
   ]
  },
  {
   "cell_type": "code",
   "execution_count": 13,
   "id": "6e825928",
   "metadata": {},
   "outputs": [
    {
     "data": {
      "text/plain": [
       "6.7"
      ]
     },
     "execution_count": 13,
     "metadata": {},
     "output_type": "execute_result"
    }
   ],
   "source": [
    "sample_tuple[5]"
   ]
  },
  {
   "cell_type": "code",
   "execution_count": 14,
   "id": "8f8370f5",
   "metadata": {},
   "outputs": [],
   "source": [
    "sample_tuple[2]=3.5\n"
   ]
  },
  {
   "cell_type": "code",
   "execution_count": 16,
   "id": "144991a8",
   "metadata": {},
   "outputs": [],
   "source": [
    "sample_tuple.reverse()"
   ]
  },
  {
   "cell_type": "code",
   "execution_count": 17,
   "id": "684bb06c",
   "metadata": {},
   "outputs": [
    {
     "data": {
      "text/plain": [
       "[6.7, (1+2j), 'hi', 3.5, 43, 12]"
      ]
     },
     "execution_count": 17,
     "metadata": {},
     "output_type": "execute_result"
    }
   ],
   "source": [
    "sample_tuple."
   ]
  },
  {
   "cell_type": "markdown",
   "id": "00d16acb",
   "metadata": {},
   "source": [
    "# Dictionary\n",
    "\n"
   ]
  },
  {
   "cell_type": "code",
   "execution_count": null,
   "id": "81bf0f25",
   "metadata": {},
   "outputs": [],
   "source": []
  }
 ],
 "metadata": {
  "kernelspec": {
   "display_name": "Python 3",
   "language": "python",
   "name": "python3"
  },
  "language_info": {
   "codemirror_mode": {
    "name": "ipython",
    "version": 3
   },
   "file_extension": ".py",
   "mimetype": "text/x-python",
   "name": "python",
   "nbconvert_exporter": "python",
   "pygments_lexer": "ipython3",
   "version": "3.8.8"
  }
 },
 "nbformat": 4,
 "nbformat_minor": 5
}
